{
 "cells": [
  {
   "cell_type": "code",
   "execution_count": null,
   "metadata": {},
   "outputs": [],
   "source": [
    "from sklearn.datasets import load_breast_cancer\n",
    "from sklearn.preprocessing import MinMaxScaler\n",
    "from sklearn.decomposition import PCA\n",
    "\n",
    "cancer = load_breast_cancer()\n",
    "# 스케일러\n",
    "scaler = MinMaxScaler()\n",
    "scaler.fit(cancer.data) # 라벨 없음\n",
    "X_scaled = scaler.transform(cancer.data)\n",
    "\n",
    "# PCA 모델 생성\n",
    "pca = PCA(n_components=2) # 주성분을 2개를 유지\n",
    "pca.fit(X_scaled) # 학습\n",
    "X_pca = pca.transform(X_scaled)\n",
    "print(\"원본 데이터의 형태:\", X_scaled.shape)\n",
    "print(\"축소된 데이터의 형태:\", X_pca.shape)\n",
    "\n"
   ]
  },
  {
   "cell_type": "code",
   "execution_count": null,
   "metadata": {},
   "outputs": [],
   "source": [
    "# 주성분의 시각화\n",
    "import matplotlib.pyplot as plt\n",
    "\n",
    "plt.scatter(X_pca[:, 0], # 첫번째 성분\n",
    "           X_pca[:, 1], # 두번째 성분\n",
    "           c = cancer.target)\n",
    "plt.xlabel(\"First Component\")\n",
    "plt.ylabel(\"Second Component\")\n",
    "plt.show()"
   ]
  },
  {
   "cell_type": "code",
   "execution_count": null,
   "metadata": {},
   "outputs": [],
   "source": [
    "# 컴포넌트의 목록 확인\n",
    "print(pca.components_)\n",
    "print(len(pca.components_[0])) # 첫 번째 컴포넌트"
   ]
  },
  {
   "cell_type": "code",
   "execution_count": null,
   "metadata": {
    "scrolled": true
   },
   "outputs": [],
   "source": [
    "# 두개의 주 컴포넌트와 다른 피처들과의 관계\n",
    "plt.matshow(pca.components_, cmap=\"viridis\")\n",
    "plt.yticks([0, 1], [\"first component\", \"second component\"])\n",
    "plt.colorbar()\n",
    "plt.xticks(range(len(cancer.feature_names)),\n",
    "          cancer.feature_names, rotation = 80)\n",
    "plt.xlabel(\"Features\")\n",
    "plt.ylabel(\"Principla Components\")\n",
    "plt.show()\n",
    "\n",
    "# PCA 알고리즘은 "
   ]
  }
 ],
 "metadata": {
  "kernelspec": {
   "display_name": "Python 3",
   "language": "python",
   "name": "python3"
  },
  "language_info": {
   "codemirror_mode": {
    "name": "ipython",
    "version": 3
   },
   "file_extension": ".py",
   "mimetype": "text/x-python",
   "name": "python",
   "nbconvert_exporter": "python",
   "pygments_lexer": "ipython3",
   "version": "3.7.3"
  }
 },
 "nbformat": 4,
 "nbformat_minor": 4
}
