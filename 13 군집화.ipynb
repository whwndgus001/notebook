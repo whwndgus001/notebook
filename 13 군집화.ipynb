{
 "cells": [
  {
   "cell_type": "code",
   "execution_count": null,
   "metadata": {},
   "outputs": [],
   "source": [
    "# 군집화 : 데이터를 n개의 클러스터로 분할\n",
    "from sklearn.datasets import make_blobs\n",
    "from sklearn.cluster import KMeans\n",
    "\n",
    "# 인위적으로 군집화 데이터 생성\n",
    "X, y = make_blobs(random_state= 1, centers = 3) # 3개의 군집으로 데이터 생성\n",
    "\n",
    "# 1차 시각화\n",
    "import matplotlib.pyplot as plt\n",
    "\n",
    "plt.scatter(X[:, 0], X[:, 1])\n",
    "plt.show()"
   ]
  },
  {
   "cell_type": "code",
   "execution_count": null,
   "metadata": {},
   "outputs": [],
   "source": [
    "# target label 확인\n",
    "print(\"TargetsL:\", y)"
   ]
  },
  {
   "cell_type": "code",
   "execution_count": null,
   "metadata": {},
   "outputs": [],
   "source": [
    "# kmeans 모델 생성\n",
    "kmeans = KMeans(n_clusters = 3) # 3개의 클러스터로 군집됨\n",
    "kmeans.fit(X) # 학습\n",
    "# 예측된 클러스터 레이블\n",
    "print(\"예측된 테이블:\", kmeans.labels_)"
   ]
  },
  {
   "cell_type": "code",
   "execution_count": null,
   "metadata": {},
   "outputs": [],
   "source": [
    "#시각화하기\n",
    "\n",
    "#데이터프레임 만들기\n",
    "import pandas as pd\n",
    "\n",
    "df = pd.DataFrame({\n",
    "    \"Feature 1\": X[:, 0],\n",
    "    \"Feature 2\": X[:, 1],\n",
    "    \"cluster\": kmeans.labels_\n",
    "})\n",
    "\n",
    "df\n"
   ]
  },
  {
   "cell_type": "code",
   "execution_count": null,
   "metadata": {},
   "outputs": [],
   "source": [
    "#그룹별로 시각화하기\n",
    "for cluster in sorted(df['cluster'].unique()):\n",
    "    data = df[df['cluster'] == cluster]     #필터링\n",
    "    plt.scatter(data['Feature 1'], data['Feature 2'], label = cluster)\n",
    "    \n",
    "#각 클러스터의 중심 시각화하기\n",
    "#print(kmeans.cluster_centers_)\n",
    "\n",
    "for center in kmeans.cluster_centers_:\n",
    "    plt.plot(center[0], center[1], marker = \"^\", c = \"red\")\n",
    "    \n",
    "plt.legend()\n",
    "plt.show()"
   ]
  },
  {
   "cell_type": "code",
   "execution_count": null,
   "metadata": {},
   "outputs": [],
   "source": [
    " # iris 데이터 셋르 이용한 군집화 연습\n",
    "from sklearn.datasets import load_iris\n",
    "import pandas as pd\n",
    "import numpy as np\n",
    "\n",
    "iris =  load_iris()\n",
    "print(\"Shape of data:\", iris.data.shape)\n",
    "print(iris.feature_names) # 0, 1 피치를 이용하여 군접화\n",
    "print(iris.target_names) # n_clusters = 3\n",
    "    \n",
    "    # 알고리즘 생성\n",
    "model = KMeans(n_clusters = 3) # 중심 3개\n",
    "model.fit(iris.data) #학습\n",
    "print(\"예측된 클러스터:\", model.cluster_centers_)\n",
    "\n",
    "# 데이터 프레임 생성\n",
    "cluster_df = pd.DataFrame(\n",
    "    data = np.c_[iris.data, model.labels_],\n",
    "    columns = iris.feature_names + [\"label\"]\n",
    ")\n",
    "# cluster df\n",
    "cluster_df.label = cluster_df.label.astype(\"uint8\") # 정수형으로 변환\n",
    "cluster_df\n",
    "\n",
    "# sepal length vs sepal width로 시각화\n",
    "for label in sorted(cluster_df.label.unique()):\n",
    "    print(\"label:\", label)\n",
    "    \n",
    "    # 필터링\n",
    "    cluster_data = cluster_df[cluster_df.label == label]\n",
    "    plt.scatter(cluster_data.iloc[:, 0], # 0번 변수\n",
    "               cluster_data.iloc[:, 1], #1번 변수\n",
    "               label = label)\n",
    "    \n",
    "plt.xlabel(\"sepal length\")\n",
    "plt.ylabel(\"sepal width\")\n",
    "plt.legend()\n",
    "plt.show()"
   ]
  },
  {
   "cell_type": "code",
   "execution_count": null,
   "metadata": {},
   "outputs": [],
   "source": []
  }
 ],
 "metadata": {
  "kernelspec": {
   "display_name": "Python 3",
   "language": "python",
   "name": "python3"
  },
  "language_info": {
   "codemirror_mode": {
    "name": "ipython",
    "version": 3
   },
   "file_extension": ".py",
   "mimetype": "text/x-python",
   "name": "python",
   "nbconvert_exporter": "python",
   "pygments_lexer": "ipython3",
   "version": "3.7.3"
  }
 },
 "nbformat": 4,
 "nbformat_minor": 4
}
