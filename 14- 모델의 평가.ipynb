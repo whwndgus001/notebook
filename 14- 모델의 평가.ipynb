{
 "cells": [
  {
   "cell_type": "code",
   "execution_count": null,
   "metadata": {},
   "outputs": [],
   "source": [
    "# 간단한 학습 진행\n",
    "from sklearn.datasets import load_breast_cancer\n",
    "\n",
    "cancer = load_breast_cancer()\n",
    "print(cancer['DESCR'])"
   ]
  },
  {
   "cell_type": "code",
   "execution_count": null,
   "metadata": {},
   "outputs": [],
   "source": [
    "# 특징 데이터\n",
    "X = cancer.data\n",
    "# 종속 변수 생성. 악성 종양 발견이 목적 -> 레이블의 0과 1을 바꿔준다\n",
    "y = 1 - cancer.target\n",
    "y"
   ]
  },
  {
   "cell_type": "code",
   "execution_count": null,
   "metadata": {},
   "outputs": [],
   "source": [
    "print(X.shape)\n",
    "X_train = X[:, :10] # 10개의 열로 줄임\n",
    "\n",
    "# 학습\n",
    "from sklearn.linear_model import LogisticRegression\n",
    "\n",
    "# 선형 회귀 모델 생성\n",
    "model = LogisticRegression(max_iter=1000)\n",
    "model.fit(X_train, y) # 학습\n",
    "# 예측\n",
    "y_pred = model.predict(X_train)"
   ]
  },
  {
   "cell_type": "code",
   "execution_count": null,
   "metadata": {},
   "outputs": [],
   "source": [
    "# confusion matrix\n",
    "from sklearn.metrics import confusion_matrix\n",
    "# 종속 변수와 예측 결과로 Confusion Matrix 생성\n",
    "cm = confusion_matrix(y, y_pred)\n",
    "print(cm)"
   ]
  },
  {
   "cell_type": "code",
   "execution_count": null,
   "metadata": {},
   "outputs": [],
   "source": [
    "# 정확도 예측\n",
    "from sklearn.metrics import accuracy_score\n",
    "print(\"정확도:\", accuracy_score(y, y_pred))"
   ]
  },
  {
   "cell_type": "code",
   "execution_count": null,
   "metadata": {
    "scrolled": true
   },
   "outputs": [],
   "source": [
    "# 정밀도 (Precision)\n",
    "from sklearn.metrics import precision_score\n",
    "print(\"정밀도:\", precision_score(y, y_pred))"
   ]
  },
  {
   "cell_type": "code",
   "execution_count": null,
   "metadata": {},
   "outputs": [],
   "source": [
    "# 재현율 (Recall) -> True Positive Rate\n",
    "from sklearn.metrics import recall_score\n",
    "print(\"재현율:\", recall_score(y, y_pred))"
   ]
  },
  {
   "cell_type": "code",
   "execution_count": null,
   "metadata": {},
   "outputs": [],
   "source": [
    "# F1 Score\n",
    "from sklearn.metrics import f1_score\n",
    "print(\"f1 score:\", f1_score(y, y_pred))"
   ]
  },
  {
   "cell_type": "code",
   "execution_count": null,
   "metadata": {},
   "outputs": [],
   "source": [
    "# 회귀 문제의 평가 방법\n",
    "# 보스턴 데이터 셋\n",
    "from sklearn.datasets import load_boston\n",
    "boston = load_boston()\n",
    "print(boston['DESCR'])"
   ]
  },
  {
   "cell_type": "code",
   "execution_count": null,
   "metadata": {},
   "outputs": [],
   "source": [
    "# 학습 데이터\n",
    "X = boston.data\n",
    "# RM 특성 추출\n",
    "X_train = X[:, [5,]]\n",
    "# 타겟 데이터\n",
    "y = boston.target"
   ]
  },
  {
   "cell_type": "code",
   "execution_count": null,
   "metadata": {},
   "outputs": [],
   "source": [
    "# 간단한 학습\n",
    "from sklearn.linear_model import LinearRegression\n",
    "\n",
    "model = LinearRegression()\n",
    "model.fit(X_train, y) # 학습\n",
    "y_pred = model.predict(X_train)"
   ]
  },
  {
   "cell_type": "code",
   "execution_count": null,
   "metadata": {},
   "outputs": [],
   "source": [
    "# 회귀선의 공식\n",
    "print(\"기울기:\", model.coef_)\n",
    "print(\"절편:\", model.intercept_)"
   ]
  },
  {
   "cell_type": "code",
   "execution_count": null,
   "metadata": {},
   "outputs": [],
   "source": [
    "# 시각화\n",
    "import matplotlib.pyplot as plt\n",
    "\n",
    "# 좌표 평면 생성\n",
    "fig, ax = plt.subplots()\n",
    "# 특정, 종속 변수로 산점도 출력\n",
    "ax.scatter(X_train, #RM 변수\n",
    "           y, # target\n",
    "           color = \"orange\",\n",
    "           label = \"Data set\")\n",
    "\n",
    "# 회귀선\n",
    "ax.plot(X_train, y_pred, color = \"red\", label = \"Regression curve\")\n",
    "ax.legend()\n",
    "plt.xlabel(\"Rooms\")\n",
    "plt.ylabel(\"Price\")\n",
    "plt.show()"
   ]
  },
  {
   "cell_type": "code",
   "execution_count": null,
   "metadata": {},
   "outputs": [],
   "source": [
    "# 평균 제곱 오차: MSE\n",
    "# 회귀 모델에서는 MSE를 최소화 하는 방향으로 평가\n",
    "from sklearn.metrics import mean_squared_error\n",
    "\n",
    "print(\"평균 제곱 오차:\", mean_squared_error(y, y_pred))"
   ]
  },
  {
   "cell_type": "code",
   "execution_count": null,
   "metadata": {},
   "outputs": [],
   "source": [
    "# 결정 계수 : 0 ~ 1 사이에서 결정\n",
    "# 1에 가까울수록 모델이 데이터 포인트를 정확하게 표현함을 의미한다.\n",
    "from sklearn.metrics import r2_score\n",
    "\n",
    "print(\"결정 계수:\", r2_score(y, y_pred))"
   ]
  }
 ],
 "metadata": {
  "kernelspec": {
   "display_name": "Python 3",
   "language": "python",
   "name": "python3"
  },
  "language_info": {
   "codemirror_mode": {
    "name": "ipython",
    "version": 3
   },
   "file_extension": ".py",
   "mimetype": "text/x-python",
   "name": "python",
   "nbconvert_exporter": "python",
   "pygments_lexer": "ipython3",
   "version": "3.7.3"
  }
 },
 "nbformat": 4,
 "nbformat_minor": 4
}
