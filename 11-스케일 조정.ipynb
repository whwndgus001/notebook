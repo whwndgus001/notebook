{
 "cells": [
  {
   "cell_type": "code",
   "execution_count": null,
   "metadata": {},
   "outputs": [],
   "source": [
    "# 다변량 데이터의 경우, 모든 특성들의 데이터 스케일을 맞춰 주어야 한다.\n",
    "from sklearn.datasets import load_breast_cancer\n",
    "from sklearn.model_selection import train_test_split\n",
    "\n",
    "cancer = load_breast_cancer() # 데이터 셋 로드\n",
    "X_train, X_test, y_train, y_test = train_test_split(\n",
    "    cancer.data, cancer.target, random_state = 1\n",
    ")\n",
    "# shape\n",
    "print(X_train.shape, X_test.shape)"
   ]
  },
  {
   "cell_type": "code",
   "execution_count": null,
   "metadata": {},
   "outputs": [],
   "source": [
    "# Scaler의 적용\n",
    "from sklearn.preprocessing import MinMaxScaler\n",
    "scaler = MinMaxScaler() # 최솟값 0, 최댓값 1 사이의 데이터로 변환\n",
    "scaler.fit(X_train) # 비지도 학습 -> target 없음\n",
    "X_train_scaled = scaler.transform(X_train) # 스케일 변환\n",
    "X_train_scaled"
   ]
  },
  {
   "cell_type": "code",
   "execution_count": null,
   "metadata": {},
   "outputs": [],
   "source": [
    "# 데이터의 시각화\n",
    "import matplotlib.pyplot as plt\n",
    "# 0번 feature -> x, 1번 feature -> y\n",
    "plt.subplot(1, 2, 1) # 1 * 2 서브플롯 중, 첫번째 영역\n",
    "plt.scatter(X_train[:, 0],\n",
    "           X_train[: , 1],\n",
    "           c= y_train)\n",
    "plt.title(\"Before.Scale\")\n",
    "plt.subplot(1, 2, 2) # 1 * 2 서브플롯 중, 두번째 영역 (조정된 데이터)\n",
    "plt.scatter(X_train_scaled[:, 0],\n",
    "           X_train_scaled[:, 1],\n",
    "           c= y_train)\n",
    "plt.title(\"After Scale\")\n",
    "plt.show()"
   ]
  },
  {
   "cell_type": "code",
   "execution_count": null,
   "metadata": {},
   "outputs": [],
   "source": [
    "# 모든 feature의 스케일을 시각화\n",
    "# 원본 데이터\n",
    "plt.subplot(2, 1, 1) # 2 * 1의 첫번째 영역(원복)\n",
    "plt.boxplot(X_train)\n",
    "plt.title(\"Before Scale\")\n",
    "plt.subplot(2, 1, 2) # 2 * 1의 두번째 영역(스케일 된 데이터)\n",
    "plt.boxplot(X_train_scaled)\n",
    "plt.title(\"After Scale\")\n",
    "plt.show()"
   ]
  },
  {
   "cell_type": "code",
   "execution_count": null,
   "metadata": {},
   "outputs": [],
   "source": [
    "# 원본 데이터를 활용한 SVC 분류\n",
    "from sklearn.svm import SVC\n",
    "\n",
    "svm = SVC(C=100) # 모델 생성\n",
    "svm.fit(X_train, y_train)\n",
    "print(\"테스트 세트 정확도:\", svm.score(X_test, y_test))"
   ]
  },
  {
   "cell_type": "code",
   "execution_count": null,
   "metadata": {},
   "outputs": [],
   "source": [
    "# 스케일 조정된 데이터를 활용한 SVC 분류\n",
    "X_test_scaled = scaler.transform(X_test)\n",
    "svm.fit(X_train_scaled, y_train)\n",
    "print(\"조정된 테스트 세트의 정확도:\", svm.score(X_test_scaled, y_test))\n",
    "# 중요 : 학습 데이터와 테스트 데이터에 같은 스케일을 적용해 주어야 한다."
   ]
  }
 ],
 "metadata": {
  "kernelspec": {
   "display_name": "Python 3",
   "language": "python",
   "name": "python3"
  },
  "language_info": {
   "codemirror_mode": {
    "name": "ipython",
    "version": 3
   },
   "file_extension": ".py",
   "mimetype": "text/x-python",
   "name": "python",
   "nbconvert_exporter": "python",
   "pygments_lexer": "ipython3",
   "version": "3.7.3"
  }
 },
 "nbformat": 4,
 "nbformat_minor": 4
}
